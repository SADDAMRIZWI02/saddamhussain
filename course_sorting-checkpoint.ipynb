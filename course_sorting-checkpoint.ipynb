{
 "cells": [
  {
   "cell_type": "code",
   "execution_count": 12,
   "id": "8b0d90d3",
   "metadata": {},
   "outputs": [],
   "source": [
    "def find_order(courses):\n",
    "    in_degree = {course: 0 for course in courses}\n",
    "    graph = {course: [] for course in courses}\n",
    "\n",
    "    # Build the graph and calculate the in-degree of each course\n",
    "    for course, prereqs in courses.items():\n",
    "        for prereq in prereqs:\n",
    "            graph[prereq].append(course)\n",
    "            in_degree[course] += 1\n",
    "\n",
    "    # Add all courses with an in-degree of 0 to the queue\n",
    "    queue = [course for course in courses if in_degree[course] == 0]\n",
    "\n",
    "    result = []\n",
    "    while queue:\n",
    "        course = queue.pop(0)\n",
    "        result.append(course)\n",
    "\n",
    "        # Decrement the in-degree of each course that depends on c\n",
    "        for dependent_course in graph[course]:\n",
    "            in_degree[dependent_course] -= 1\n",
    "\n",
    "            # If the dependent course now has an in-degree of 0, add it to the queue\n",
    "            if in_degree[dependent_course] == 0:\n",
    "                queue.append(dependent_course)\n",
    "\n",
    "    # If the size of result is equal to the number of courses, return result\n",
    "    if len(result) == len(courses):\n",
    "        return result\n",
    "    else:\n",
    "        return None\n"
   ]
  },
  {
   "cell_type": "code",
   "execution_count": 13,
   "id": "4dde80e4",
   "metadata": {},
   "outputs": [
    {
     "name": "stdout",
     "output_type": "stream",
     "text": [
      "['CSC100', 'CSC200', 'CSC300']\n"
     ]
    }
   ],
   "source": [
    "courses = {'CSC300': ['CSC100', 'CSC200'], 'CSC200': ['CSC100'], 'CSC100': []}\n",
    "order = find_order(courses)\n",
    "print(order)\n"
   ]
  },
  {
   "cell_type": "code",
   "execution_count": null,
   "id": "6fb06aff",
   "metadata": {},
   "outputs": [],
   "source": []
  }
 ],
 "metadata": {
  "kernelspec": {
   "display_name": "Python 3 (ipykernel)",
   "language": "python",
   "name": "python3"
  },
  "language_info": {
   "codemirror_mode": {
    "name": "ipython",
    "version": 3
   },
   "file_extension": ".py",
   "mimetype": "text/x-python",
   "name": "python",
   "nbconvert_exporter": "python",
   "pygments_lexer": "ipython3",
   "version": "3.10.2"
  }
 },
 "nbformat": 4,
 "nbformat_minor": 5
}
