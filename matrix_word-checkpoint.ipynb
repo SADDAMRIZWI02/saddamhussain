{
 "cells": [
  {
   "cell_type": "code",
   "execution_count": 1,
   "id": "bd76ad72",
   "metadata": {},
   "outputs": [],
   "source": [
    "def find_word(matrix, word):\n",
    "    # Check if the word can be found left-to-right\n",
    "    for row in matrix:\n",
    "        if ''.join(row).find(word) != -1:\n",
    "            return True\n",
    "\n",
    "    # Check if the word can be found up-to-down\n",
    "    for j in range(len(matrix[0])):\n",
    "        column = ''\n",
    "        for i in range(len(matrix)):\n",
    "            column += matrix[i][j]\n",
    "        if column.find(word) != -1:\n",
    "            return True\n",
    "\n",
    "    # If the word is not found in either direction, return False\n",
    "    return False\n"
   ]
  },
  {
   "cell_type": "code",
   "execution_count": 2,
   "id": "d8e1f47e",
   "metadata": {},
   "outputs": [
    {
     "name": "stdout",
     "output_type": "stream",
     "text": [
      "True\n",
      "True\n"
     ]
    }
   ],
   "source": [
    "matrix = [['F', 'A', 'C', 'I'],\n",
    "          ['O', 'B', 'Q', 'P'],\n",
    "          ['A', 'N', 'O', 'B'],\n",
    "          ['M', 'A', 'S', 'S']]\n",
    "print(find_word(matrix, 'FOAM'))\n",
    "print(find_word(matrix, 'MASS'))\n"
   ]
  },
  {
   "cell_type": "code",
   "execution_count": null,
   "id": "3f5ec0ac",
   "metadata": {},
   "outputs": [],
   "source": []
  }
 ],
 "metadata": {
  "kernelspec": {
   "display_name": "Python 3 (ipykernel)",
   "language": "python",
   "name": "python3"
  },
  "language_info": {
   "codemirror_mode": {
    "name": "ipython",
    "version": 3
   },
   "file_extension": ".py",
   "mimetype": "text/x-python",
   "name": "python",
   "nbconvert_exporter": "python",
   "pygments_lexer": "ipython3",
   "version": "3.10.2"
  }
 },
 "nbformat": 4,
 "nbformat_minor": 5
}
