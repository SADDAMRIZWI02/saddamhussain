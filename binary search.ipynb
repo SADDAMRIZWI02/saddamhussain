{
 "cells": [
  {
   "cell_type": "code",
   "execution_count": 1,
   "id": "7f9e9efb",
   "metadata": {},
   "outputs": [],
   "source": [
    "#Definition for a binary tree node.\n",
    "class TreeNode:\n",
    "    def __init__(self, val=0, left=None, right=None):\n",
    "        self.val = val\n",
    "        self.left = left\n",
    "        self.right = right\n",
    "\n",
    "\n",
    "class Solution:\n",
    "    def isValidBST(self, root: TreeNode) -> bool:\n",
    "       \n",
    "        def valid(node, left, right):\n",
    "            if node is None:\n",
    "                return True\n",
    "            if not (node.val < right and node.val > left):\n",
    "                return False\n",
    "            \n",
    "            return ( valid (node.left, left, node.val) and\n",
    "                   valid (node.right, node.val, right))\n",
    "        \n",
    "        return valid(root, float(\"-inf\"), float(\"inf\"))"
   ]
  },
  {
   "cell_type": "code",
   "execution_count": 2,
   "id": "61bd1838",
   "metadata": {},
   "outputs": [
    {
     "name": "stdout",
     "output_type": "stream",
     "text": [
      "False\n"
     ]
    }
   ],
   "source": [
    "# Create a binary tree node\n",
    "root = TreeNode(6)\n",
    "root.left = TreeNode(1)\n",
    "root.right = TreeNode(7)\n",
    "root.right.left = TreeNode(8)\n",
    "root.right.right = TreeNode(9)\n",
    "\n",
    "# Instantiate the Solution class\n",
    "solution = Solution()\n",
    "\n",
    "# Call the isValidBST method\n",
    "result = solution.isValidBST(root)\n",
    "\n",
    "# Print the result\n",
    "print(result)"
   ]
  },
  {
   "cell_type": "code",
   "execution_count": 3,
   "id": "f9c6ee2d",
   "metadata": {},
   "outputs": [
    {
     "name": "stdout",
     "output_type": "stream",
     "text": [
      "True\n"
     ]
    }
   ],
   "source": [
    "# Create a binary tree node\n",
    "root = TreeNode(5)\n",
    "root.left = TreeNode(3)\n",
    "root.right = TreeNode(7)\n",
    "root.right.left = TreeNode(6)\n",
    "root.right.right = TreeNode(8)\n",
    "\n",
    "# Instantiate the Solution class\n",
    "solution = Solution()\n",
    "\n",
    "# Call the isValidBST method\n",
    "result = solution.isValidBST(root)\n",
    "\n",
    "# Print the result\n",
    "print(result)"
   ]
  },
  {
   "cell_type": "code",
   "execution_count": null,
   "id": "b635b43b",
   "metadata": {},
   "outputs": [],
   "source": []
  }
 ],
 "metadata": {
  "kernelspec": {
   "display_name": "Python 3 (ipykernel)",
   "language": "python",
   "name": "python3"
  },
  "language_info": {
   "codemirror_mode": {
    "name": "ipython",
    "version": 3
   },
   "file_extension": ".py",
   "mimetype": "text/x-python",
   "name": "python",
   "nbconvert_exporter": "python",
   "pygments_lexer": "ipython3",
   "version": "3.10.2"
  }
 },
 "nbformat": 4,
 "nbformat_minor": 5
}
