{
 "cells": [
  {
   "cell_type": "code",
   "execution_count": 1,
   "id": "99f63e2c",
   "metadata": {},
   "outputs": [
    {
     "name": "stdout",
     "output_type": "stream",
     "text": [
      "3\n",
      "7\n"
     ]
    }
   ],
   "source": [
    "def divide(dividend, divisor):\n",
    "    if divisor == 0:\n",
    "        return None  # Cannot divide by zero\n",
    "    \"\"\"\n",
    "\n",
    "    Returns:\n",
    "    quotient -- the quotient of the division as an integer, ignoring the remainder\n",
    "    \"\"\"\n",
    "    quotient = 0\n",
    "    remainder = dividend\n",
    "    while remainder >= divisor:\n",
    "        remainder -= divisor\n",
    "        quotient += 1\n",
    "\n",
    "    return quotient\n",
    "\n",
    "# example usage and output\n",
    "print(divide(10, 3)) # output: 3\n",
    "print(divide(15, 2)) # output: 7\n"
   ]
  },
  {
   "cell_type": "code",
   "execution_count": null,
   "id": "8cbac66e",
   "metadata": {},
   "outputs": [],
   "source": []
  },
  {
   "cell_type": "code",
   "execution_count": null,
   "id": "293c4772",
   "metadata": {},
   "outputs": [],
   "source": []
  }
 ],
 "metadata": {
  "kernelspec": {
   "display_name": "Python 3 (ipykernel)",
   "language": "python",
   "name": "python3"
  },
  "language_info": {
   "codemirror_mode": {
    "name": "ipython",
    "version": 3
   },
   "file_extension": ".py",
   "mimetype": "text/x-python",
   "name": "python",
   "nbconvert_exporter": "python",
   "pygments_lexer": "ipython3",
   "version": "3.10.2"
  }
 },
 "nbformat": 4,
 "nbformat_minor": 5
}
